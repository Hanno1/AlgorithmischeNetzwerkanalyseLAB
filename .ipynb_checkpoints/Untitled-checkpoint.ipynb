{
 "cells": [
  {
   "cell_type": "markdown",
   "id": "d678cfa4",
   "metadata": {},
   "source": [
    "### 1. Aufgabenblatt - Graphbibliothek\n",
    "\n",
    "1. Vorstellung der API\n",
    "2. Implementierung\n",
    "3. Laufzeitanalyse"
   ]
  },
  {
   "cell_type": "code",
   "execution_count": 24,
   "id": "dc1c874c",
   "metadata": {},
   "outputs": [],
   "source": [
    "from src.Graph import Graph"
   ]
  },
  {
   "cell_type": "code",
   "execution_count": 26,
   "id": "5e28270b",
   "metadata": {},
   "outputs": [
    {
     "ename": "AttributeError",
     "evalue": "'Graph' object has no attribute 'get_nodes'",
     "output_type": "error",
     "traceback": [
      "\u001b[1;31m---------------------------------------------------------------------------\u001b[0m",
      "\u001b[1;31mAttributeError\u001b[0m                            Traceback (most recent call last)",
      "\u001b[1;32m~\\AppData\\Local\\Temp\\ipykernel_23372\\1438157068.py\u001b[0m in \u001b[0;36m<module>\u001b[1;34m\u001b[0m\n\u001b[0;32m     16\u001b[0m \u001b[1;33m\u001b[0m\u001b[0m\n\u001b[0;32m     17\u001b[0m \u001b[1;31m# Zugriff auf die Knotenmenge\u001b[0m\u001b[1;33m\u001b[0m\u001b[1;33m\u001b[0m\u001b[0m\n\u001b[1;32m---> 18\u001b[1;33m \u001b[0mG\u001b[0m\u001b[1;33m.\u001b[0m\u001b[0mget_nodes\u001b[0m\u001b[1;33m(\u001b[0m\u001b[1;33m)\u001b[0m\u001b[1;33m\u001b[0m\u001b[1;33m\u001b[0m\u001b[0m\n\u001b[0m",
      "\u001b[1;31mAttributeError\u001b[0m: 'Graph' object has no attribute 'get_nodes'"
     ]
    }
   ],
   "source": [
    "# Erstellung eines leeren Graphens\n",
    "G = Graph()\n",
    "\n",
    "# Hinzufügen von Knoten\n",
    "G.add_node(2)\n",
    "G.add_node(\"3\")\n",
    "G.add_node(\":)\")\n",
    "G.add_node(\":[\")\n",
    "\n",
    "# Hinzufügen von Kanten\n",
    "G.add_edge(2, \"3\")\n",
    "G.add_edge(\"2\", \":[\")\n",
    "\n",
    "# Hinzufügen von Kanten und Knoten sind noch unbekannt -> Knoten wird automatisch erstellt\n",
    "G.add_edge(\"Node4\", \"2\")\n",
    "\n",
    "# Zugriff auf die Knotenmenge\n",
    "G.get_nodes()"
   ]
  },
  {
   "cell_type": "code",
   "execution_count": 7,
   "id": "5200878f",
   "metadata": {},
   "outputs": [
    {
     "name": "stdout",
     "output_type": "stream",
     "text": [
      "the Graph contains the following Nodes: 2 \n"
     ]
    }
   ],
   "source": [
    "G.print_nodes()"
   ]
  },
  {
   "cell_type": "code",
   "execution_count": null,
   "id": "57953d43",
   "metadata": {},
   "outputs": [],
   "source": []
  }
 ],
 "metadata": {
  "kernelspec": {
   "display_name": "Python 3 (ipykernel)",
   "language": "python",
   "name": "python3"
  },
  "language_info": {
   "codemirror_mode": {
    "name": "ipython",
    "version": 3
   },
   "file_extension": ".py",
   "mimetype": "text/x-python",
   "name": "python",
   "nbconvert_exporter": "python",
   "pygments_lexer": "ipython3",
   "version": "3.9.13"
  }
 },
 "nbformat": 4,
 "nbformat_minor": 5
}
