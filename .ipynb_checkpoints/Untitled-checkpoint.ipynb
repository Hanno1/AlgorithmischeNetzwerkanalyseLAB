{
 "cells": [
  {
   "cell_type": "markdown",
   "id": "5debfeb5",
   "metadata": {},
   "source": [
    "### 1. Aufgabenblatt - Graphbibliothek\n",
    "\n",
    "1. Vorstellung der API\n",
    "2. Implementierung\n",
    "3. Laufzeitanalyse"
   ]
  },
  {
   "cell_type": "code",
   "execution_count": 3,
   "id": "180c11ab",
   "metadata": {},
   "outputs": [],
   "source": [
    "from src.Graph import Graph"
   ]
  },
  {
   "cell_type": "code",
   "execution_count": 6,
   "id": "51f67de7",
   "metadata": {},
   "outputs": [],
   "source": [
    "# Erstellung eines leeren Graphens\n",
    "G = Graph()\n",
    "\n",
    "# Hinzufügen von Knoten\n",
    "G.add_node(2)\n",
    "G.add_node(\"3\")\n",
    "G.add_node(\":)\")\n",
    "G.add_node(\":[\")\n",
    "\n",
    "# Hinzufügen von Kanten\n",
    "G.add_edge(2, \"3\")\n",
    "G.add_edge(\"2\", \":[\")\n",
    "\n",
    "# Hinzufügen von Kanten und Knoten sind noch unbekannt -> Knoten wird automatisch erstellt\n",
    "G.add_edge(\"Node4\", \"2\")\n",
    "\n",
    "# Zugriff auf die Knotenmenge\n",
    "G.g"
   ]
  },
  {
   "cell_type": "code",
   "execution_count": 7,
   "id": "b6d52872",
   "metadata": {},
   "outputs": [
    {
     "name": "stdout",
     "output_type": "stream",
     "text": [
      "the Graph contains the following Nodes: 2 \n"
     ]
    }
   ],
   "source": [
    "G.print_nodes()"
   ]
  },
  {
   "cell_type": "code",
   "execution_count": null,
   "id": "43e321ca",
   "metadata": {},
   "outputs": [],
   "source": []
  }
 ],
 "metadata": {
  "kernelspec": {
   "display_name": "Python 3 (ipykernel)",
   "language": "python",
   "name": "python3"
  },
  "language_info": {
   "codemirror_mode": {
    "name": "ipython",
    "version": 3
   },
   "file_extension": ".py",
   "mimetype": "text/x-python",
   "name": "python",
   "nbconvert_exporter": "python",
   "pygments_lexer": "ipython3",
   "version": "3.9.13"
  }
 },
 "nbformat": 4,
 "nbformat_minor": 5
}
