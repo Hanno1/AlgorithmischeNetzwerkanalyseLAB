{
 "cells": [
  {
   "cell_type": "code",
   "execution_count": 4,
   "metadata": {},
   "outputs": [],
   "source": [
    "from src.Graph import Graph\n",
    "import src.networkCentrality.basicCentralities as bC"
   ]
  },
  {
   "attachments": {},
   "cell_type": "markdown",
   "metadata": {},
   "source": [
    "## Degree Centrality \n",
    "\n",
    "**Algorithm**\n",
    "* If *node* is provided, get its degree and normalize it by N-1 \n",
    "\n",
    "* otherwise get degrees for all nodes, normalize by N-1\n",
    "\n",
    "if *k* is provided, additionally, the final centrality dictionary is sorted, and the top_k entries with largest centrality are returned \\\n",
    "(*k* can be provided for all the following centralities, and the return dictionary is determined in the same way)"
   ]
  },
  {
   "attachments": {},
   "cell_type": "markdown",
   "metadata": {},
   "source": [
    "## Closeness Centrality \n",
    "If the given Graph has multiple components, **Harmonic Centrality** is calculated \n",
    "> Harmonic Centrality for a node v: sum of inverse distances 1/d(u,v) for all nodes v ≠ u that have a path. Normalize by N-1\n",
    "\n",
    "**Algorithm**\n",
    "* If *node* is provided, calculate distances with single_source_shortest_path for the given node, calculate centrality\n",
    "\n",
    "* otherwise all_pairs_shortest_path to get all distances, calculate centralities for every node\n"
   ]
  },
  {
   "attachments": {},
   "cell_type": "markdown",
   "metadata": {},
   "source": [
    "\n",
    "## Closeness Centrality approximation\n",
    "* Estimate the centralities with only the distances of k_approx nodes to every other node. \n",
    "\n",
    "* either for top_k centralities or all centralities, not for single node.\n",
    "\n",
    "* optional parameter k_approx for setting the number of nodes in the \"representation group\".\n",
    "\n",
    "**Algorithm**\n",
    "* choose k_approx nodes at random\n",
    "\n",
    "* compute single_source_shortest_path for each of them (k_approx times)\n",
    "\n",
    "* calculate the centralities for the nodes in the representation group as always\n",
    "\n",
    "* iterate over all other nodes: calculate average (inverse) distance of the representative nodes to the current node\n",
    "\n",
    "> again, if the given Graph has multiple components, **Harmonic Centrality** is calculated instead"
   ]
  }
 ],
 "metadata": {
  "kernelspec": {
   "display_name": "AGA-12ds6F8R",
   "language": "python",
   "name": "python3"
  },
  "language_info": {
   "codemirror_mode": {
    "name": "ipython",
    "version": 3
   },
   "file_extension": ".py",
   "mimetype": "text/x-python",
   "name": "python",
   "nbconvert_exporter": "python",
   "pygments_lexer": "ipython3",
   "version": "3.11.3"
  },
  "orig_nbformat": 4
 },
 "nbformat": 4,
 "nbformat_minor": 2
}
