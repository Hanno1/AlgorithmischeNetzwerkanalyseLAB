{
 "cells": [
  {
   "cell_type": "markdown",
   "id": "d678cfa4",
   "metadata": {},
   "source": [
    "### 1. Aufgabenblatt - Graphbibliothek\n",
    "\n",
    "1. Vorstellung der API\n",
    "2. Implementierung\n",
    "3. Laufzeitanalyse"
   ]
  },
  {
   "cell_type": "code",
   "execution_count": 27,
   "id": "dc1c874c",
   "metadata": {},
   "outputs": [],
   "source": [
    "from src.Graph import Graph"
   ]
  },
  {
   "cell_type": "code",
   "execution_count": 31,
   "id": "5e28270b",
   "metadata": {},
   "outputs": [
    {
     "name": "stdout",
     "output_type": "stream",
     "text": [
      "the Graph contains the following Nodes: Node1 Node2 Node3 2 Node4 \n",
      "Node1: 2 Node4 \n",
      "Node2: \n",
      "Node3: 2 \n",
      "2: Node1 Node3 \n",
      "Node4: Node1 \n"
     ]
    }
   ],
   "source": [
    "# Erstellung eines leeren Graphens\n",
    "G = Graph()\n",
    "\n",
    "# Hinzufügen von Knoten\n",
    "G.add_node(\"Node1\")\n",
    "G.add_node(\"Node2\")\n",
    "G.add_node(\"Node3\")\n",
    "G.add_node(2)\n",
    "\n",
    "# Hinzufügen von Kanten\n",
    "G.add_edge(2, \"Node3\")\n",
    "G.add_edge(\"2\", \"Node1\")\n",
    "\n",
    "# Hinzufügen von Kanten und Knoten sind noch unbekannt -> Knoten wird automatisch erstellt\n",
    "G.add_edge(\"Node4\", \"Node1\")\n",
    "\n",
    "# Zugriff auf die Knotenmenge\n",
    "# G.get_nodes()\n",
    "\n",
    "# and pretty printing\n",
    "G.print_nodes()\n",
    "\n",
    "# print edges\n",
    "G.print_edges()\n"
   ]
  },
  {
   "cell_type": "code",
   "execution_count": 7,
   "id": "5200878f",
   "metadata": {},
   "outputs": [
    {
     "name": "stdout",
     "output_type": "stream",
     "text": [
      "the Graph contains the following Nodes: 2 \n"
     ]
    }
   ],
   "source": [
    "G.print_nodes()"
   ]
  },
  {
   "cell_type": "code",
   "execution_count": null,
   "id": "57953d43",
   "metadata": {},
   "outputs": [],
   "source": []
  }
 ],
 "metadata": {
  "kernelspec": {
   "display_name": "Python 3 (ipykernel)",
   "language": "python",
   "name": "python3"
  },
  "language_info": {
   "codemirror_mode": {
    "name": "ipython",
    "version": 3
   },
   "file_extension": ".py",
   "mimetype": "text/x-python",
   "name": "python",
   "nbconvert_exporter": "python",
   "pygments_lexer": "ipython3",
   "version": "3.9.13"
  }
 },
 "nbformat": 4,
 "nbformat_minor": 5
}
