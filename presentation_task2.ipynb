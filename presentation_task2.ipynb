{
 "cells": [
  {
   "cell_type": "code",
   "execution_count": 11,
   "metadata": {},
   "outputs": [],
   "source": [
    "from src.printGraph import draw_graph as draw_graph\n",
    "from src.Graph import Graph\n",
    "import src.triangleAlgorithms as TA\n",
    "from test_ import HelperClass as HC"
   ]
  },
  {
   "attachments": {},
   "cell_type": "markdown",
   "metadata": {},
   "source": [
    "### Aufgabe 3 - Dreiecke\n",
    "\n",
    "Algorithmen zum Aufzählen von Dreiecken. \n",
    "Hier haben wir uns an \"Triangle Listing Algorithms: Back from the Diversion\" von Mark Ortmann und Ulrik Brandes sowie \"Algorithmic Aspects of Triangle-Based Network Analysis\" von Thomas Schank orientiert.\n",
    "\n",
    "Es wurden insgesamt 4 verschiedene Algorithmen implementiert. Zurückgegeben wird ein Tupel, wo der erste Wert die Anzahl an Dreiecken aus dem Graph zurückgibt. Der zweite Wert enthält die Aufzählung der Dreiecke als Liste.\n",
    "\n",
    "Die ersten 2 Algorithmen benötigen die (internen) Knoten des Graphens nach Knotengrad sortiert. Dazu gehen wir die internal Ids durch und schauen uns jeweils den Knotengrad an. Dann sortieren wir den Knoten in ein Dictionary, wo der Key der Knotengrad ist und der Value alle Knotenids mit dem Knotengrad."
   ]
  },
  {
   "cell_type": "code",
   "execution_count": 9,
   "metadata": {},
   "outputs": [
    {
     "data": {
      "image/png": "[encoded data removed]",
      "text/plain": [
       "<Figure size 640x480 with 1 Axes>"
      ]
     },
     "metadata": {},
     "output_type": "display_data"
    }
   ],
   "source": [
    "G, _, _ = HC.create_graph()\n",
    "G.add_edge(11, 13)\n",
    "\n",
    "draw_graph(G, True)"
   ]
  },
  {
   "attachments": {},
   "cell_type": "markdown",
   "metadata": {},
   "source": [
    "Algorithmus 1 - Node Iterator\n",
    "\n",
    "Dieser Algorithmus wurde zum Vergleichen einmal ohne Knotenreihenfolge und einmal mit getestet.\n",
    "\n",
    "ohne Knotenreihenfolge:\n",
    "- Laufzeit: $O(n \\cdot d_{max} ^2 ) \\subseteq O(n^3)$\n",
    "\n",
    "mit Knotenreihenfolge:\n",
    "- Laufzeit: TODO"
   ]
  },
  {
   "cell_type": "code",
   "execution_count": 12,
   "metadata": {},
   "outputs": [
    {
     "name": "stdout",
     "output_type": "stream",
     "text": [
      "(3, [['3', '4', '5'], ['11', '10', '13'], ['11', '12', '13']])\n"
     ]
    }
   ],
   "source": [
    "print(TA.algorithm_node_iterator(G))"
   ]
  },
  {
   "attachments": {},
   "cell_type": "markdown",
   "metadata": {},
   "source": [
    "Algorithmus 2 - Chiba und Nishizeki (K3)\n",
    "\n",
    "- Laufzeit: $O(n\\cdot d_{max}^2) \\subseteq O(n^3)$"
   ]
  },
  {
   "cell_type": "code",
   "execution_count": 13,
   "metadata": {},
   "outputs": [
    {
     "name": "stdout",
     "output_type": "stream",
     "text": [
      "(3, [['3', '4', '5'], ['11', '10', '13'], ['11', '12', '13']])\n"
     ]
    }
   ],
   "source": [
    "print(TA.algorithm_chiba_and_nishizeki(G))"
   ]
  },
  {
   "attachments": {},
   "cell_type": "markdown",
   "metadata": {},
   "source": [
    "Algorithmus 3 - Edge Iterator\n",
    "\n",
    "- Laufzeit: $O(d_{max}\\cdot m) \\subseteq O(n\\cdot m)$\n",
    "- Speicheraufwand: $O(n^2)$\n",
    "\n",
    "funktioniert folgendermaßen: \n",
    "1) Es wird die Adjazensmatrix des Graphens erstellt\n",
    "2) Nun werden alle Knoten v der Reihe nach durchgegangen\n",
    "3) Für jeden Knoten v werden seine Nachbarn n durchgegangen\n",
    "4) Für jedes Paar v,n wird in der Adjazensmatrix die entsprechende Zeile genommen und der Index des ersten Eintrags der 1 ist gespeichert (j, k)\n",
    "5) Solange $j \\neq k$ wird der nächste Eintrag der auf 1 ist gesucht\n",
    "6) Gilt $j=k$, so wird ein Dreieck ausgegeben und bis zum Ende der Zeile weiter gesucht"
   ]
  },
  {
   "cell_type": "code",
   "execution_count": 14,
   "metadata": {},
   "outputs": [
    {
     "name": "stdout",
     "output_type": "stream",
     "text": [
      "(3, [['3', '5', '4'], ['11', '13', '12'], ['10', '13', '11']])\n"
     ]
    }
   ],
   "source": [
    "print(TA.algorithm_edge_iterator(G))"
   ]
  },
  {
   "attachments": {},
   "cell_type": "markdown",
   "metadata": {},
   "source": [
    "Algorithmus 4 - ayz\n",
    "\n",
    "Dieser Algorithmus ist nur in der Lage die Dreiecke zu zählen und kann sie nicht alle ausgeben\n",
    "- Laufzeit: $O(m^{\\frac{2\\gamma}{\\gamma + 1}}) \\subseteq O(m^{1.41})$"
   ]
  },
  {
   "cell_type": "code",
   "execution_count": 16,
   "metadata": {},
   "outputs": [
    {
     "name": "stdout",
     "output_type": "stream",
     "text": [
      "(3, {'-1': 0, '0': 0, '1': 0, '2': 0, '3': 1.0, '4': 1.0, '5': 1.0, '6': 0, '7': 0, '8': 0, '9': 0, '10': 1, '11': 2.0, '12': 1, '13': 2.0, '15': 0})\n",
      "(3, {'-1': 0, '0': 0, '1': 0, '2': 0.0, '3': 1.0, '4': 1.0, '5': 1.0, '6': 0.0, '7': 0, '8': 0, '9': 0, '10': 1.0, '11': 2.0, '12': 1.0, '13': 2.0, '15': 0})\n"
     ]
    }
   ],
   "source": [
    "print(TA.algorithm_triangle_counter_ayz(G, 2))\n",
    "print(TA.algorithm_triangle_counter_ayz(G, 1))"
   ]
  },
  {
   "cell_type": "code",
   "execution_count": null,
   "metadata": {},
   "outputs": [],
   "source": []
  }
 ],
 "metadata": {
  "kernelspec": {
   "display_name": "Python 3",
   "language": "python",
   "name": "python3"
  },
  "language_info": {
   "codemirror_mode": {
    "name": "ipython",
    "version": 3
   },
   "file_extension": ".py",
   "mimetype": "text/x-python",
   "name": "python",
   "nbconvert_exporter": "python",
   "pygments_lexer": "ipython3",
   "version": "3.9.13"
  },
  "orig_nbformat": 4
 },
 "nbformat": 4,
 "nbformat_minor": 2
}
