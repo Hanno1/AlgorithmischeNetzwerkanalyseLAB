{
 "cells": [
  {
   "cell_type": "markdown",
   "id": "e63951d7",
   "metadata": {},
   "source": [
    "# Bidirectional Search"
   ]
  },
  {
   "cell_type": "code",
   "execution_count": 1,
   "id": "186b7c37",
   "metadata": {},
   "outputs": [],
   "source": [
    "import time\n",
    "\n",
    "from test_.Performancetest import GraphPerformanceTester\n",
    "from src.Graph import Graph\n",
    "import src.printGraph as pg\n",
    "import src.shortestPaths as sp\n",
    "import timeit\n",
    "import networkx as nx\n",
    "from tqdm import tqdm\n",
    "import random\n",
    "\n",
    "def Average(lst):\n",
    "    return sum(lst) / len(lst)"
   ]
  },
  {
   "cell_type": "markdown",
   "id": "92e4f522",
   "metadata": {},
   "source": [
    "## Beispielanwendung\n",
    "Es wird ein Graph mit 16 Knoten erzeugt. Dabei gibt es verschiedene Kombinationen, welche zum Teil speziele Probleme wie das auftreten einzelner Konten oder besonderer Lable repräsentieren soll."
   ]
  },
  {
   "cell_type": "code",
   "execution_count": 2,
   "id": "271b8520",
   "metadata": {},
   "outputs": [],
   "source": [
    "G = Graph()\n",
    "\n",
    "G.add_edge(1,2)\n",
    "G.add_edge(2,3)\n",
    "G.add_edge(3,4)\n",
    "G.add_edge(4,5)\n",
    "G.add_edge(5,3)\n",
    "G.add_edge(6,7)\n",
    "G.add_edge(7,8)\n",
    "G.add_edge(8,6)\n",
    "G.add_edge(0,-1)\n",
    "G.add_edge(10,11)\n",
    "G.add_edge(11,12)\n",
    "G.add_edge(12,13)\n",
    "G.add_edge(13,10)\n",
    "\n",
    "G.add_node(9)\n",
    "G.add_node(15)"
   ]
  },
  {
   "cell_type": "code",
   "execution_count": 3,
   "id": "4ba77cdb",
   "metadata": {},
   "outputs": [
    {
     "data": {
      "image/png": "[encoded data removed]",
      "text/plain": [
       "<Figure size 432x288 with 1 Axes>"
      ]
     },
     "metadata": {},
     "output_type": "display_data"
    }
   ],
   "source": [
    "pg.draw_graph(G)"
   ]
  },
  {
   "cell_type": "markdown",
   "id": "73a623ec",
   "metadata": {},
   "source": [
    "Anwendung der Bidirektionale Suche auf die Nodes s = 1, t = 5"
   ]
  },
  {
   "cell_type": "code",
   "execution_count": 4,
   "id": "890e06a6",
   "metadata": {},
   "outputs": [
    {
     "name": "stdout",
     "output_type": "stream",
     "text": [
      "(['1', '2', '3', '5'], 3)\n"
     ]
    }
   ],
   "source": [
    "print(sp.shortest_s_t_path(G,1,5))"
   ]
  },
  {
   "cell_type": "code",
   "execution_count": 5,
   "id": "29dcbef5",
   "metadata": {},
   "outputs": [
    {
     "name": "stdout",
     "output_type": "stream",
     "text": [
      "(['0', '-1'], 1)\n"
     ]
    }
   ],
   "source": [
    "print(sp.shortest_s_t_path(G,0,-1))"
   ]
  },
  {
   "cell_type": "code",
   "execution_count": 6,
   "id": "5b7b3c82",
   "metadata": {},
   "outputs": [
    {
     "name": "stdout",
     "output_type": "stream",
     "text": [
      "(['-1', '0'], 1)\n"
     ]
    }
   ],
   "source": [
    "print(sp.shortest_s_t_path(G,-1,0))"
   ]
  },
  {
   "cell_type": "code",
   "execution_count": 7,
   "id": "36321b50",
   "metadata": {},
   "outputs": [
    {
     "name": "stdout",
     "output_type": "stream",
     "text": [
      "(['12', '11', '10'], 2)\n"
     ]
    }
   ],
   "source": [
    "print(sp.shortest_s_t_path(G,12,10))"
   ]
  },
  {
   "cell_type": "code",
   "execution_count": 8,
   "id": "ee334560",
   "metadata": {},
   "outputs": [
    {
     "name": "stdout",
     "output_type": "stream",
     "text": [
      "([], inf)\n"
     ]
    }
   ],
   "source": [
    "print(sp.shortest_s_t_path(G,1,15))"
   ]
  },
  {
   "cell_type": "code",
   "execution_count": 9,
   "id": "535bade2",
   "metadata": {},
   "outputs": [
    {
     "name": "stdout",
     "output_type": "stream",
     "text": [
      "(['15'], 0)\n"
     ]
    }
   ],
   "source": [
    "print(sp.shortest_s_t_path(G,15,15))"
   ]
  },
  {
   "cell_type": "markdown",
   "id": "21008bc7",
   "metadata": {},
   "source": [
    "![alt text](Netzwerk.png \"Title\")"
   ]
  },
  {
   "cell_type": "code",
   "execution_count": 10,
   "id": "15bc7093",
   "metadata": {},
   "outputs": [
    {
     "name": "stdout",
     "output_type": "stream",
     "text": [
      "(['1', '2', '3', '4', '5'], 4)\n"
     ]
    }
   ],
   "source": [
    "G = Graph()\n",
    "G.add_edge(1,2);G.add_edge(1,6);G.add_edge(2,6);G.add_edge(2,3);G.add_edge(6,7);G.add_edge(3,4);G.add_edge(3,7);G.add_edge(7,8);G.add_edge(4,8);G.add_edge(4,5);G.add_edge(8,5);\n",
    "print(sp.shortest_s_t_path(G,1,5))"
   ]
  },
  {
   "cell_type": "markdown",
   "id": "838385e4",
   "metadata": {},
   "source": [
    "## Umsetzung und Laufzeit"
   ]
  },
  {
   "cell_type": "raw",
   "id": "2122694a",
   "metadata": {},
   "source": [
    "shortest_path = []\n",
    "\n",
    "s_queue = deque([s])\n",
    "t_queue = deque([t])\n",
    "\n",
    "s_parent = dict()\n",
    "t_parent = dict()\n",
    "s_parent[s] = -1\n",
    "t_parent[t] = -1"
   ]
  },
  {
   "cell_type": "raw",
   "id": "a77ffc4e",
   "metadata": {},
   "source": [
    "while s_queue and t_queue:\n",
    "    if len(s_queue) <= len(t_queue):\n",
    "        intersection = breadth_first_search(G, s_parent, t_parent, s_queue)\n",
    "    else:\n",
    "        intersection = breadth_first_search(G, t_parent, s_parent, t_queue)"
   ]
  },
  {
   "cell_type": "raw",
   "id": "744dc5dd",
   "metadata": {},
   "source": [
    "current_node = queue.popleft()\n",
    "for node in G.get_internal_neighbors(current_node):\n",
    "    if node not in parent:\n",
    "        parent[node] = current_node\n",
    "        queue.append(node)\n",
    "    if node in b_parent:\n",
    "        return node\n",
    "return -1"
   ]
  },
  {
   "cell_type": "markdown",
   "id": "b05a89ae",
   "metadata": {},
   "source": [
    "### Queue:\n",
    "Verwendung von len() in O(1) möglich - Im Vergleich zur Liste O(1) <br>\n",
    "Verwendung von popleft() in O(1) möglich - Im Vergleich zur Liste O(n) <br>\n",
    "Verwendung von append() in O(1) möglich - Im Vergleich zur Liste O(1) <br>\n",
    "Verwendung von append() in O(1) möglich - Im Vergleich zur Liste O(1) <br>\n",
    "\n",
    "-> Wegen popleft wurde sich für eine Queue entschieden\n",
    "\n",
    "### Dictionary\n",
    "Verwendung von if Item in Dictionary in O(1) [Average Case] / O(n) [Amortized Worst Case] möglich- Im Vergleich zur Liste O(n) <br>\n",
    "Verwendung von Dictionary[x] = y in O(1) [Average Case] / O(n) [Amortized Worst Case] möglich- Im Vergleich zur Liste O(1)\n",
    "\n",
    "-> Wegen dem Key-Value Paaren wurde sich für eine Dictionary entschieden\n"
   ]
  },
  {
   "cell_type": "markdown",
   "id": "b009a845",
   "metadata": {},
   "source": [
    "## Vergleich mit Networkx"
   ]
  },
  {
   "cell_type": "code",
   "execution_count": 11,
   "id": "0f1b093a",
   "metadata": {},
   "outputs": [],
   "source": [
    "network_file =\"networks/bio-celegans.mtx\"\n",
    "G = Graph(network_file, Graph.READ_MOD_EDGE_LIST)\n",
    "nxG = nx.read_edgelist(network_file,comments=\"%\")"
   ]
  },
  {
   "cell_type": "code",
   "execution_count": 12,
   "id": "7285bc7c",
   "metadata": {},
   "outputs": [
    {
     "name": "stdout",
     "output_type": "stream",
     "text": [
      "time_shortest_s_t_path:  6.802999999990788e-05\n",
      "networkx - time_shortest_s_t_path:  4.357999999999862e-05\n",
      "networkx - SpeedUp:  1.749188447647906\n"
     ]
    }
   ],
   "source": [
    "num_iterations = 10\n",
    "num_repeat = 10\n",
    "\n",
    "s = 1\n",
    "t = 227\n",
    "\n",
    "time_shortest_s_t_path_list = timeit.repeat(lambda: sp.shortest_s_t_path(G,s,t),time.process_time, repeat= num_repeat,number=num_iterations)\n",
    "nx_time_shortest_s_t_path_list = timeit.repeat(lambda: nx.bidirectional_shortest_path(nxG,str(s),str(t)),time.process_time, repeat= num_repeat,number=num_iterations)\n",
    "SpeedUP = [time_shortest_s_t_path_list[i]/nx_time_shortest_s_t_path_list[i] for i in range(len(time_shortest_s_t_path_list))]\n",
    "\n",
    "print(\"time_shortest_s_t_path: \", Average(time_shortest_s_t_path_list))\n",
    "print(\"networkx - time_shortest_s_t_path: \", Average(nx_time_shortest_s_t_path_list))\n",
    "print(\"networkx - SpeedUp: \", Average(SpeedUP))"
   ]
  },
  {
   "cell_type": "code",
   "execution_count": 13,
   "id": "f89d6942",
   "metadata": {
    "scrolled": false
   },
   "outputs": [
    {
     "name": "stdout",
     "output_type": "stream",
     "text": [
      "generating graphs\n"
     ]
    },
    {
     "name": "stderr",
     "output_type": "stream",
     "text": [
      "100%|██████████████████████████████████████████████████████████████████████████████| 100/100 [00:00<00:00, 6661.22it/s]\n",
      "100%|██████████████████████████████████████████████████████████████████████████████| 500/500 [00:00<00:00, 1364.95it/s]\n",
      "100%|█████████████████████████████████████████████████████████████████████████████| 1000/1000 [00:01<00:00, 665.21it/s]\n"
     ]
    },
    {
     "name": "stdout",
     "output_type": "stream",
     "text": [
      "running tests\n"
     ]
    },
    {
     "ename": "NetworkXNoPath",
     "evalue": "No path between 1 and 2.",
     "output_type": "error",
     "traceback": [
      "\u001b[1;31m---------------------------------------------------------------------------\u001b[0m",
      "\u001b[1;31mNetworkXNoPath\u001b[0m                            Traceback (most recent call last)",
      "Input \u001b[1;32mIn [13]\u001b[0m, in \u001b[0;36m<cell line: 2>\u001b[1;34m()\u001b[0m\n\u001b[0;32m      1\u001b[0m GPT \u001b[38;5;241m=\u001b[39m GraphPerformanceTester(sizes \u001b[38;5;241m=\u001b[39m [\u001b[38;5;241m100\u001b[39m, \u001b[38;5;241m500\u001b[39m, \u001b[38;5;241m1000\u001b[39m], iters \u001b[38;5;241m=\u001b[39m \u001b[38;5;241m25\u001b[39m, graph_density\u001b[38;5;241m=\u001b[39m\u001b[38;5;241m0.1\u001b[39m)\n\u001b[1;32m----> 2\u001b[0m apsp_perf \u001b[38;5;241m=\u001b[39m \u001b[43mGPT\u001b[49m\u001b[38;5;241;43m.\u001b[39;49m\u001b[43mrun_tests\u001b[49m\u001b[43m(\u001b[49m\u001b[43msp\u001b[49m\u001b[38;5;241;43m.\u001b[39;49m\u001b[43mshortest_s_t_path\u001b[49m\u001b[43m,\u001b[49m\u001b[43m \u001b[49m\u001b[43mnx\u001b[49m\u001b[38;5;241;43m.\u001b[39;49m\u001b[43mbidirectional_shortest_path\u001b[49m\u001b[43m,\u001b[49m\u001b[43m \u001b[49m\u001b[43m(\u001b[49m\u001b[38;5;28;43mstr\u001b[39;49m\u001b[43m(\u001b[49m\u001b[38;5;241;43m1\u001b[39;49m\u001b[43m)\u001b[49m\u001b[43m,\u001b[49m\u001b[38;5;28;43mstr\u001b[39;49m\u001b[43m(\u001b[49m\u001b[38;5;241;43m2\u001b[39;49m\u001b[43m)\u001b[49m\u001b[43m)\u001b[49m\u001b[43m,\u001b[49m\u001b[43m \u001b[49m\u001b[43mgenerators\u001b[49m\u001b[38;5;241;43m=\u001b[39;49m\u001b[43m[\u001b[49m\u001b[38;5;28;43;01mTrue\u001b[39;49;00m\u001b[43m,\u001b[49m\u001b[38;5;28;43;01mTrue\u001b[39;49;00m\u001b[43m]\u001b[49m\u001b[43m,\u001b[49m\u001b[43m \u001b[49m\u001b[43mverbose\u001b[49m\u001b[43m \u001b[49m\u001b[38;5;241;43m=\u001b[39;49m\u001b[43m \u001b[49m\u001b[38;5;28;43;01mFalse\u001b[39;49;00m\u001b[43m)\u001b[49m\n",
      "File \u001b[1;32mE:\\GitHub\\AlgorithmischeNetzwerkanalyseLAB\\test_\\Performancetest.py:76\u001b[0m, in \u001b[0;36mGraphPerformanceTester.run_tests\u001b[1;34m(self, func, nx_func, func_args, generators, verbose)\u001b[0m\n\u001b[0;32m     74\u001b[0m start \u001b[38;5;241m=\u001b[39m time\u001b[38;5;241m.\u001b[39mtime()\n\u001b[0;32m     75\u001b[0m \u001b[38;5;28;01mif\u001b[39;00m generators[\u001b[38;5;241m1\u001b[39m]:\n\u001b[1;32m---> 76\u001b[0m     [i \u001b[38;5;28;01mfor\u001b[39;00m i \u001b[38;5;129;01min\u001b[39;00m \u001b[43mnx_func\u001b[49m\u001b[43m(\u001b[49m\u001b[43mnxG\u001b[49m\u001b[43m,\u001b[49m\u001b[43m \u001b[49m\u001b[38;5;241;43m*\u001b[39;49m\u001b[43mfunc_args\u001b[49m\u001b[43m)\u001b[49m]\n\u001b[0;32m     77\u001b[0m \u001b[38;5;28;01melse\u001b[39;00m:\n\u001b[0;32m     78\u001b[0m     nx_func(nxG, \u001b[38;5;241m*\u001b[39mfunc_args)\n",
      "File \u001b[1;32mE:\\anaconda3\\lib\\site-packages\\networkx\\algorithms\\shortest_paths\\unweighted.py:224\u001b[0m, in \u001b[0;36mbidirectional_shortest_path\u001b[1;34m(G, source, target)\u001b[0m\n\u001b[0;32m    221\u001b[0m     \u001b[38;5;28;01mraise\u001b[39;00m nx\u001b[38;5;241m.\u001b[39mNodeNotFound(msg)\n\u001b[0;32m    223\u001b[0m \u001b[38;5;66;03m# call helper to do the real work\u001b[39;00m\n\u001b[1;32m--> 224\u001b[0m results \u001b[38;5;241m=\u001b[39m \u001b[43m_bidirectional_pred_succ\u001b[49m\u001b[43m(\u001b[49m\u001b[43mG\u001b[49m\u001b[43m,\u001b[49m\u001b[43m \u001b[49m\u001b[43msource\u001b[49m\u001b[43m,\u001b[49m\u001b[43m \u001b[49m\u001b[43mtarget\u001b[49m\u001b[43m)\u001b[49m\n\u001b[0;32m    225\u001b[0m pred, succ, w \u001b[38;5;241m=\u001b[39m results\n\u001b[0;32m    227\u001b[0m \u001b[38;5;66;03m# build path from pred+w+succ\u001b[39;00m\n",
      "File \u001b[1;32mE:\\anaconda3\\lib\\site-packages\\networkx\\algorithms\\shortest_paths\\unweighted.py:292\u001b[0m, in \u001b[0;36m_bidirectional_pred_succ\u001b[1;34m(G, source, target)\u001b[0m\n\u001b[0;32m    289\u001b[0m                 \u001b[38;5;28;01mif\u001b[39;00m w \u001b[38;5;129;01min\u001b[39;00m pred:  \u001b[38;5;66;03m# found path\u001b[39;00m\n\u001b[0;32m    290\u001b[0m                     \u001b[38;5;28;01mreturn\u001b[39;00m pred, succ, w\n\u001b[1;32m--> 292\u001b[0m \u001b[38;5;28;01mraise\u001b[39;00m nx\u001b[38;5;241m.\u001b[39mNetworkXNoPath(\u001b[38;5;124mf\u001b[39m\u001b[38;5;124m\"\u001b[39m\u001b[38;5;124mNo path between \u001b[39m\u001b[38;5;132;01m{\u001b[39;00msource\u001b[38;5;132;01m}\u001b[39;00m\u001b[38;5;124m and \u001b[39m\u001b[38;5;132;01m{\u001b[39;00mtarget\u001b[38;5;132;01m}\u001b[39;00m\u001b[38;5;124m.\u001b[39m\u001b[38;5;124m\"\u001b[39m)\n",
      "\u001b[1;31mNetworkXNoPath\u001b[0m: No path between 1 and 2."
     ]
    }
   ],
   "source": [
    "GPT = GraphPerformanceTester(sizes = [100, 500, 1000], iters = 25, graph_density=0.1)\n",
    "apsp_perf = GPT.run_tests(sp.shortest_s_t_path, nx.bidirectional_shortest_path, (str(1),str(2)), generators=[True,True], verbose = False)"
   ]
  },
  {
   "cell_type": "raw",
   "id": "09440ac1",
   "metadata": {},
   "source": [
    "while forward_fringe and reverse_fringe:\n",
    "    if len(forward_fringe) <= len(reverse_fringe):\n",
    "        this_level = forward_fringe\n",
    "        forward_fringe = []\n",
    "        for v in this_level:\n",
    "            for w in Gsucc[v]:"
   ]
  },
  {
   "cell_type": "markdown",
   "id": "3bb16f2b",
   "metadata": {},
   "source": [
    "## Sonderfälle"
   ]
  },
  {
   "cell_type": "markdown",
   "id": "e3523791",
   "metadata": {},
   "source": [
    "![alt text](Vergleich.png \"Title\")"
   ]
  },
  {
   "cell_type": "code",
   "execution_count": 14,
   "id": "21054f0b",
   "metadata": {},
   "outputs": [
    {
     "data": {
      "image/png": "[encoded data removed]",
      "text/plain": [
       "<Figure size 432x288 with 1 Axes>"
      ]
     },
     "metadata": {},
     "output_type": "display_data"
    }
   ],
   "source": [
    "network_file =\"networks/special_case_for_networkx.mtx\"\n",
    "G = Graph(network_file, Graph.READ_MOD_EDGE_LIST)\n",
    "nxG = nx.read_edgelist(network_file,comments=\"%\")\n",
    "pg.draw_graph(G,label_on = True)"
   ]
  },
  {
   "cell_type": "code",
   "execution_count": 15,
   "id": "414d9c0c",
   "metadata": {},
   "outputs": [
    {
     "name": "stdout",
     "output_type": "stream",
     "text": [
      "time_shortest_s_t_path:  6.938000000005218e-05\n",
      "networkx - time_shortest_s_t_path:  8.340000000011117e-05\n",
      "networkx - SpeedUp:  0.8421710452383975\n"
     ]
    }
   ],
   "source": [
    "s = 1\n",
    "t = 7\n",
    "time_shortest_s_t_path_list = timeit.repeat(lambda: sp.shortest_s_t_path(G,s,t),time.process_time, repeat= num_repeat,number=num_iterations)\n",
    "nx_time_shortest_s_t_path_list = timeit.repeat(lambda: nx.bidirectional_shortest_path(nxG,str(s),str(t)),time.process_time, repeat= num_repeat,number=num_iterations)\n",
    "SpeedUP = [time_shortest_s_t_path_list[i]/nx_time_shortest_s_t_path_list[i] for i in range(len(time_shortest_s_t_path_list))]\n",
    "\n",
    "print(\"time_shortest_s_t_path: \", Average(time_shortest_s_t_path_list))\n",
    "print(\"networkx - time_shortest_s_t_path: \", Average(nx_time_shortest_s_t_path_list))\n",
    "print(\"networkx - SpeedUp: \", Average(SpeedUP))"
   ]
  },
  {
   "cell_type": "markdown",
   "id": "3d807751",
   "metadata": {},
   "source": [
    "# Grenzen"
   ]
  },
  {
   "cell_type": "code",
   "execution_count": 16,
   "id": "9ad4d243",
   "metadata": {},
   "outputs": [
    {
     "name": "stdout",
     "output_type": "stream",
     "text": [
      "7393 25569\n",
      "shortest_s_t_path for 7393, 25569:  0.0\n"
     ]
    }
   ],
   "source": [
    "network_file =\"./networks/bio-dmela.mtx\"\n",
    "G = Graph(network_file, Graph.READ_MOD_EDGE_LIST)\n",
    "print(G.n,G.m)\n",
    "\n",
    "s_t = random.sample(G.get_nodes(),2)\n",
    "start = time.time()\n",
    "sp.shortest_s_t_path(G,s_t[0],s_t[1])\n",
    "end = time.time()\n",
    "print(f\"shortest_s_t_path for {G.n}, {G.m}: \", end-start)\n"
   ]
  },
  {
   "cell_type": "code",
   "execution_count": null,
   "id": "781b6f58",
   "metadata": {},
   "outputs": [],
   "source": [
    "density = 0.0001\n",
    "add_N = 200000\n",
    "G = Graph()\n",
    "source = \"3\"\n",
    "connected_nodes = [source]\n",
    "for i in tqdm(range(0,add_N)):\n",
    "    G.add_node(i)\n",
    "max_edges = int((G.n * (G.n-1))/2)\n",
    "for _ in tqdm(range(int(max_edges*density))):\n",
    "    a = random.choice(connected_nodes)\n",
    "    b = str(random.randint(1,G.n))\n",
    "    while a == b:\n",
    "        b = str(random.randint(1,G.n))\n",
    "    G.add_edge(a,b)\n",
    "    connected_nodes.append(b)\n",
    "\n",
    "for i in range(100):\n",
    "    s_t = random.sample(G.get_nodes(),2)\n",
    "    start = time.time()\n",
    "    path = sp.shortest_s_t_path(G,s_t[0],s_t[1])\n",
    "    end = time.time()\n",
    "    if path[0] != [] and end-start > 0.0:\n",
    "        print(f\"shortest path for {G.n}, {G.m} from {s_t[0]} to {s_t[1]}: \", end-start)"
   ]
  },
  {
   "cell_type": "code",
   "execution_count": null,
   "id": "3de73604",
   "metadata": {},
   "outputs": [],
   "source": []
  }
 ],
 "metadata": {
  "kernelspec": {
   "display_name": "Python 3 (ipykernel)",
   "language": "python",
   "name": "python3"
  },
  "language_info": {
   "codemirror_mode": {
    "name": "ipython",
    "version": 3
   },
   "file_extension": ".py",
   "mimetype": "text/x-python",
   "name": "python",
   "nbconvert_exporter": "python",
   "pygments_lexer": "ipython3",
   "version": "3.9.12"
  }
 },
 "nbformat": 4,
 "nbformat_minor": 5
}
