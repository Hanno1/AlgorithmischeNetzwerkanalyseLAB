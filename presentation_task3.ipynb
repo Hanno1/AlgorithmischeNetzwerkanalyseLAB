{
 "cells": [
  {
   "attachments": {},
   "cell_type": "markdown",
   "metadata": {},
   "source": [
    "### Meilenstein 3 - Centrality"
   ]
  },
  {
   "cell_type": "code",
   "execution_count": 3,
   "metadata": {},
   "outputs": [],
   "source": [
    "from src.networkCentrality.myCentrality import OwnCentrality\n",
    "import test_.HelperClass as Hc\n",
    "from src.printGraph import draw_graph as draw_graph\n",
    "from src.Graph import Graph"
   ]
  },
  {
   "attachments": {},
   "cell_type": "markdown",
   "metadata": {},
   "source": [
    "### Unsere eigene Zentralität\n",
    "\n",
    "Vielleicht aber nicht das kreativste :D. Allerdings habe ich das Ganze geschrieben, bevor wir die Closeness Centrality in der Vorlesung behandelt haben.\n",
    "\n",
    "Alle Zentralitäten werden initialisiert oder auf 1 gesetzt, falls nicht initialisert werden soll.\n",
    "\n",
    "Die Zentralität eines Knotens v berechnet sich nun folgendermaßen:\n",
    "\n",
    "$\\sum_{\\text{w Knoten in G, } w\\neq v} c(w)\\cdot \\frac{1}{dist(w, v)^p}$\n",
    "\n",
    "p kann durch den Nutzer gesetzt werden, ist aber normalerweise einfach 2\n",
    "\n",
    "Die Laufzeit ist demnach n-mal Breitensuche (Für die Berechnung der Distanzen), also $O(n\\cdot m)$. Anschließend muss nochmal in allNodesCentrality über alle Knoten iteriert werden, also $O(n^2)$. \n",
    "\n",
    "Die Laufzeit kann analog zur Vorlesung verbessert werden, indem gleichverteilt k Knoten ausgewählt werden und die Breitensuche nur für diese Knoten gemacht wird. Damit haben wir einen Aufwand von:\n",
    "\n",
    "$O(k\\cdot (n + m) + n\\cdot k) = O(k\\cdot (n + m))$"
   ]
  },
  {
   "cell_type": "code",
   "execution_count": 18,
   "metadata": {},
   "outputs": [
    {
     "data": {
      "image/png": "[encoded data removed]",
      "text/plain": [
       "<Figure size 640x480 with 1 Axes>"
      ]
     },
     "metadata": {},
     "output_type": "display_data"
    }
   ],
   "source": [
    "G, _, _ = Hc.create_graph()\n",
    "G.add_edge(13, 11)\n",
    "draw_graph(G, True)"
   ]
  },
  {
   "cell_type": "code",
   "execution_count": 19,
   "metadata": {},
   "outputs": [
    {
     "name": "stdout",
     "output_type": "stream",
     "text": [
      "3.25\n",
      "{'-1': 1.0, '0': 1.0, '1': 1.4722222222222223, '2': 2.5, '3': 3.25, '4': 2.361111111111111, '5': 2.361111111111111, '6': 2.0, '7': 1.25, '8': 1.25, '9': 0, '10': 2.25, '11': 3.0, '12': 2.25, '13': 3.0, '15': 0}\n",
      "(['3'], 3.25)\n",
      "(['11', '13', '3'], [3.0, 3.0, 3.25])\n"
     ]
    }
   ],
   "source": [
    "# Test aller Funktionalitäten\n",
    "centr = OwnCentrality(G)\n",
    "\n",
    "# single node centrality\n",
    "print(centr.single_node_centrality(\"3\"))\n",
    "\n",
    "# all nodes centrality as a dictionary\n",
    "print(centr.all_nodes_centrality())\n",
    "\n",
    "# most central node (nodes if some nodes have the same value)\n",
    "print(centr.most_central_node())\n",
    "\n",
    "# k-most central nodes\n",
    "print(centr.k_central_nodes(3))"
   ]
  },
  {
   "cell_type": "code",
   "execution_count": 20,
   "metadata": {},
   "outputs": [
    {
     "name": "stdout",
     "output_type": "stream",
     "text": [
      "(['12', '11', '13'], [6.5, 7.0, 7.0])\n"
     ]
    }
   ],
   "source": [
    "# Nun haben wir verschiedene Optionen:\n",
    "# Wir können die Zentralitäten initialisieren, bspw mit der Grad Zentralität\n",
    "initial_cent = dict()\n",
    "for node in G.node_ids_internal_ids:\n",
    "    initial_cent[node] = G.get_node_degree(node)\n",
    "\n",
    "centr_init = OwnCentrality(G, init=initial_cent)\n",
    "\n",
    "print(centr_init.k_central_nodes(3))"
   ]
  },
  {
   "cell_type": "code",
   "execution_count": 21,
   "metadata": {},
   "outputs": [
    {
     "name": "stdout",
     "output_type": "stream",
     "text": [
      "(['5', '2', '13'], [2.361111111111111, 2.5, 3.0])\n"
     ]
    }
   ],
   "source": [
    "# Statt eine Breitensuche über alle Knoten zu machen, können wir k Knoten \n",
    "# gleichverteilt auswählen\n",
    "centr_k_uniform = OwnCentrality(G, k_uniform_nodes=10)\n",
    "\n",
    "print(centr_k_uniform.k_central_nodes(3))"
   ]
  },
  {
   "cell_type": "code",
   "execution_count": 23,
   "metadata": {},
   "outputs": [
    {
     "name": "stdout",
     "output_type": "stream",
     "text": [
      "(['11', '13', '3'], [3.0, 3.0, 3.03125])\n"
     ]
    }
   ],
   "source": [
    "# außerdem kann die Distanz anders skaliert werden durch Nutzen von p\n",
    "centr_p = OwnCentrality(G, p=5)\n",
    "\n",
    "print(centr_p.k_central_nodes(3))"
   ]
  },
  {
   "cell_type": "code",
   "execution_count": null,
   "metadata": {},
   "outputs": [],
   "source": []
  }
 ],
 "metadata": {
  "kernelspec": {
   "display_name": "Python 3",
   "language": "python",
   "name": "python3"
  },
  "language_info": {
   "codemirror_mode": {
    "name": "ipython",
    "version": 3
   },
   "file_extension": ".py",
   "mimetype": "text/x-python",
   "name": "python",
   "nbconvert_exporter": "python",
   "pygments_lexer": "ipython3",
   "version": "3.9.13"
  },
  "orig_nbformat": 4
 },
 "nbformat": 4,
 "nbformat_minor": 2
}
