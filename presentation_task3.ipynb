{
 "cells": [
  {
   "attachments": {},
   "cell_type": "markdown",
   "metadata": {},
   "source": [
    "### Meilenstein 3 - Centrality"
   ]
  },
  {
   "cell_type": "code",
   "execution_count": 3,
   "metadata": {},
   "outputs": [],
   "source": [
    "from src.networkCentrality.myCentrality import OwnCentrality\n",
    "import test_.HelperClass as Hc\n",
    "from src.printGraph import draw_graph as draw_graph\n",
    "from src.Graph import Graph"
   ]
  },
  {
   "attachments": {},
   "cell_type": "markdown",
   "metadata": {},
   "source": [
    "Unsere eigene Zentralität"
   ]
  },
  {
   "cell_type": "code",
   "execution_count": 7,
   "metadata": {},
   "outputs": [
    {
     "ename": "AttributeError",
     "evalue": "'tuple' object has no attribute 'get_nodes'",
     "output_type": "error",
     "traceback": [
      "\u001b[1;31m---------------------------------------------------------------------------\u001b[0m",
      "\u001b[1;31mAttributeError\u001b[0m                            Traceback (most recent call last)",
      "Cell \u001b[1;32mIn[7], line 2\u001b[0m\n\u001b[0;32m      1\u001b[0m G \u001b[39m=\u001b[39m Hc\u001b[39m.\u001b[39mcreate_graph()\n\u001b[1;32m----> 2\u001b[0m draw_graph(G, \u001b[39mTrue\u001b[39;49;00m)\n",
      "File \u001b[1;32mc:\\Users\\hanno\\OneDrive\\Desktop\\Informatik\\Master\\Semester II\\AlgorithmischeNetzwerkanalyseLAB\\GitRepository\\AlgorithmischeNetzwerkanalyseLAB\\src\\printGraph.py:9\u001b[0m, in \u001b[0;36mdraw_graph\u001b[1;34m(G, label_on, internal_ids)\u001b[0m\n\u001b[0;32m      6\u001b[0m \u001b[39mdef\u001b[39;00m \u001b[39mdraw_graph\u001b[39m(G: Graph, label_on\u001b[39m=\u001b[39m\u001b[39mFalse\u001b[39;00m, internal_ids\u001b[39m=\u001b[39m\u001b[39mFalse\u001b[39;00m):\n\u001b[0;32m      7\u001b[0m     networkxG \u001b[39m=\u001b[39m nx\u001b[39m.\u001b[39mGraph()\n\u001b[1;32m----> 9\u001b[0m     nodes \u001b[39m=\u001b[39m G\u001b[39m.\u001b[39;49mget_nodes()\n\u001b[0;32m     10\u001b[0m     mapping \u001b[39m=\u001b[39m G\u001b[39m.\u001b[39mnode_ids_internal_ids\n\u001b[0;32m     11\u001b[0m     \u001b[39mfor\u001b[39;00m node \u001b[39min\u001b[39;00m nodes:\n",
      "\u001b[1;31mAttributeError\u001b[0m: 'tuple' object has no attribute 'get_nodes'"
     ]
    }
   ],
   "source": [
    "G, _, _ = Hc.create_graph()\n",
    "draw_graph(G, True)"
   ]
  },
  {
   "cell_type": "code",
   "execution_count": null,
   "metadata": {},
   "outputs": [],
   "source": []
  }
 ],
 "metadata": {
  "kernelspec": {
   "display_name": "Python 3",
   "language": "python",
   "name": "python3"
  },
  "language_info": {
   "codemirror_mode": {
    "name": "ipython",
    "version": 3
   },
   "file_extension": ".py",
   "mimetype": "text/x-python",
   "name": "python",
   "nbconvert_exporter": "python",
   "pygments_lexer": "ipython3",
   "version": "3.9.13"
  },
  "orig_nbformat": 4
 },
 "nbformat": 4,
 "nbformat_minor": 2
}
