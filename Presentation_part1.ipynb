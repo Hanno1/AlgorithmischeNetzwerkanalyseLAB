{
 "cells": [
  {
   "cell_type": "markdown",
   "id": "d678cfa4",
   "metadata": {},
   "source": [
    "### 1. Aufgabenblatt - Graphbibliothek\n",
    "\n",
    "1. Vorstellung der API\n",
    "2. Implementierung\n",
    "3. Laufzeitanalyse"
   ]
  },
  {
   "cell_type": "code",
   "execution_count": 1,
   "id": "dc1c874c",
   "metadata": {},
   "outputs": [],
   "source": [
    "from src.Graph import Graph\n",
    "from src.printGraph import draw_graph\n",
    "from src.CustomExceptions import *\n",
    "import src.shortestPaths as sp\n",
    "\n",
    "import networkx as nx\n",
    "import matplotlib.pyplot as plt"
   ]
  },
  {
   "cell_type": "code",
   "execution_count": 2,
   "id": "f46faad2",
   "metadata": {},
   "outputs": [],
   "source": [
    "import test_.HelperClass as Hc"
   ]
  },
  {
   "cell_type": "markdown",
   "id": "0f506e8a",
   "metadata": {},
   "source": [
    "Graph den wir nutzen werden:\n",
    "\n",
    "<img src=\"test_/Graph_for_testing.jpg\" width=400>"
   ]
  },
  {
   "cell_type": "code",
   "execution_count": 3,
   "id": "5e28270b",
   "metadata": {},
   "outputs": [
    {
     "name": "stdout",
     "output_type": "stream",
     "text": [
      "Knotenmenge: {'1', '0', '10', '7', '-1', '15', '3', '4', '12', '5', '13', '6', '9', '8', '2', '11'}\n",
      "\n",
      "the Graph contains the following Nodes: -1, 0, 1, 2, 3, 4, 5, 6, 7, 8, 9, 10, 11, 12, 13, 15\n",
      "\n",
      "The Graph contains the following Edges (Metis Format):\n",
      "-1: 0\n",
      "0: -1\n",
      "1: 2\n",
      "2: 1, 3\n",
      "3: 2, 4, 5\n",
      "4: 3, 5\n",
      "5: 3, 4\n",
      "6: 7, 8\n",
      "7: 6\n",
      "8: 6\n",
      "10: 11, 13\n",
      "11: 10, 12\n",
      "12: 11, 13\n",
      "13: 10, 12\n"
     ]
    },
    {
     "data": {
      "image/png": "[encoded data removed]",
      "text/plain": [
       "<Figure size 640x480 with 1 Axes>"
      ]
     },
     "metadata": {},
     "output_type": "display_data"
    }
   ],
   "source": [
    "# Erstellung eines leeren Graphens\n",
    "G, n, m = Hc.create_graph()\n",
    "\n",
    "# Zugriff auf die Knotenmenge\n",
    "nodes = G.get_nodes()\n",
    "print(f\"Knotenmenge: {nodes}\\n\")\n",
    "\n",
    "# and pretty printing\n",
    "G.print_nodes()\n",
    "print(\"\")\n",
    "\n",
    "# print edges\n",
    "G.print_edges()\n",
    "\n",
    "# draw the Graph using networkx\n",
    "draw_graph(G)"
   ]
  },
  {
   "cell_type": "code",
   "execution_count": 5,
   "id": "5200878f",
   "metadata": {},
   "outputs": [
    {
     "name": "stdout",
     "output_type": "stream",
     "text": [
      "Neighbors of Node '1': {'2'}\n",
      "Neighbors of Node '2': {'1', '3'}\n",
      "Neighbors of Node '5': {'3', '4'}\n",
      "Node does not exist!\n"
     ]
    }
   ],
   "source": [
    "# von jedem Knoten kann auf seine Nachbarn zugegriffen werden\n",
    "n1 = G.get_neighbors(\"1\")\n",
    "print(f\"Neighbors of Node '1': {n1}\")\n",
    "n2 = G.get_neighbors(\"2\")\n",
    "print(f\"Neighbors of Node '2': {n2}\")\n",
    "n3 = G.get_neighbors(\"5\")\n",
    "print(f\"Neighbors of Node '5': {n3}\")\n",
    "\n",
    "# wenn der Knoten nicht existiert, dann wird eine Exception geworfen\n",
    "try:\n",
    "    G.get_neighbors(\"42\")\n",
    "except NodeDoesNotExistException:\n",
    "    print(\"Node does not exist!\")"
   ]
  },
  {
   "cell_type": "code",
   "execution_count": 6,
   "id": "57953d43",
   "metadata": {},
   "outputs": [
    {
     "name": "stdout",
     "output_type": "stream",
     "text": [
      "True\n",
      "True\n",
      "False\n",
      "False\n",
      "Node does not exist!\n"
     ]
    }
   ],
   "source": [
    "# teste für jeden Knoten ob sie benachbart sind\n",
    "print(G.test_neighbors(\"1\", \"2\"))\n",
    "print(G.test_neighbors(\"3\", \"5\"))\n",
    "print(G.test_neighbors(\"4\", \"1\"))\n",
    "\n",
    "# Die Relation ist natürlich symmetrisch\n",
    "print(G.test_neighbors(\"1\", \"4\"))\n",
    "\n",
    "# wenn der Knoten nicht existiert wird ebenfalls eine Exception geworfen\n",
    "try:\n",
    "    G.test_neighbors(\"5\", \"42\")\n",
    "except NodeDoesNotExistException:\n",
    "    print(\"Node does not exist!\")"
   ]
  },
  {
   "cell_type": "code",
   "execution_count": 7,
   "id": "721d0448",
   "metadata": {},
   "outputs": [
    {
     "name": "stdout",
     "output_type": "stream",
     "text": [
      "2\n",
      "1\n",
      "1\n"
     ]
    }
   ],
   "source": [
    "# Methode die den Knotengrad für eine Methode zurückgibt\n",
    "print(G.get_node_degree(\"4\"))\n",
    "print(G.get_node_degree(\"1\"))\n",
    "print(G.get_node_degree(\"0\"))"
   ]
  },
  {
   "cell_type": "code",
   "execution_count": 8,
   "id": "6a1b62fc",
   "metadata": {},
   "outputs": [
    {
     "name": "stdout",
     "output_type": "stream",
     "text": [
      "the Graph contains the following Nodes: -1, 0, 1, 2, 3, 4, 5, 6, 7, 8, 9, 10, 11, 12, 13, 15, 42\n",
      "the Graph contains the following Nodes: -1, 0, 1, 2, 3, 4, 5, 6, 7, 8, 9, 10, 11, 12, 13, 15\n",
      "\n",
      "The Graph contains the following Edges (Metis Format):\n",
      "-1: 0\n",
      "0: -1\n",
      "1: 2\n",
      "2: 1, 3\n",
      "3: 2, 4, 5\n",
      "4: 3, 5\n",
      "5: 3, 4\n",
      "6: 7, 8\n",
      "7: 6\n",
      "8: 9, 6\n",
      "9: 8\n",
      "10: 11, 13\n",
      "11: 10, 12\n",
      "12: 11, 13\n",
      "13: 10, 12\n",
      "\n",
      "The Graph contains the following Edges (Metis Format):\n",
      "-1: 0\n",
      "0: -1\n",
      "1: 2\n",
      "2: 1, 3\n",
      "3: 2, 4, 5\n",
      "4: 3, 5\n",
      "5: 3, 4\n",
      "6: 7, 8\n",
      "7: 6\n",
      "8: 6\n",
      "10: 11, 13\n",
      "11: 10, 12\n",
      "12: 11, 13\n",
      "13: 10, 12\n"
     ]
    }
   ],
   "source": [
    "# Knoten und Kanten können gelöscht werden\n",
    "# hat der Knoten Kanten, so werden diese automatisch entfernt\n",
    "G.add_node(\"42\")\n",
    "G.print_nodes()\n",
    "G.remove_node(\"42\")\n",
    "G.print_nodes()\n",
    "print(\"\")\n",
    "\n",
    "# Kanten können ebenfalls gelöscht werden\n",
    "G.add_edge(\"9\", \"8\")\n",
    "G.print_edges()\n",
    "print(\"\")\n",
    "G.remove_edge(\"8\", \"9\")\n",
    "G.print_edges()"
   ]
  },
  {
   "cell_type": "code",
   "execution_count": 9,
   "id": "b761e4f6",
   "metadata": {},
   "outputs": [
    {
     "name": "stdout",
     "output_type": "stream",
     "text": [
      "-1 0\n",
      "1 2\n",
      "2 3\n",
      "3 4\n",
      "3 5\n",
      "4 5\n",
      "6 7\n",
      "6 8\n",
      "10 11\n",
      "10 13\n",
      "11 12\n",
      "12 13\n"
     ]
    },
    {
     "data": {
      "image/png": "[encoded data removed]",
      "text/plain": [
       "<Figure size 640x480 with 1 Axes>"
      ]
     },
     "metadata": {},
     "output_type": "display_data"
    }
   ],
   "source": [
    "# Ein- und Ausgabe\n",
    "# 1) Edge list Format\n",
    "G.save_graph_as_edge_list(\"test\")\n",
    "\n",
    "with open(\"test.txt\") as file:\n",
    "    for line in file:\n",
    "        print(line, end=\"\")\n",
    "        \n",
    "newG = Graph(\"test.txt\")\n",
    "draw_graph(newG)"
   ]
  },
  {
   "cell_type": "code",
   "execution_count": 10,
   "id": "f77b0bc3",
   "metadata": {},
   "outputs": [
    {
     "name": "stdout",
     "output_type": "stream",
     "text": [
      "16 12\n",
      "1\n",
      "0\n",
      "3\n",
      "2 4\n",
      "3 5 6\n",
      "4 6\n",
      "4 5\n",
      "8 9\n",
      "7\n",
      "7\n",
      "\n",
      "12 14\n",
      "11 13\n",
      "12 14\n",
      "11 13\n"
     ]
    },
    {
     "data": {
      "image/png": "[encoded data removed]",
      "text/plain": [
       "<Figure size 640x480 with 1 Axes>"
      ]
     },
     "metadata": {},
     "output_type": "display_data"
    }
   ],
   "source": [
    "# 2) Edge list Format\n",
    "G.save_graph_metis(\"test\")\n",
    "\n",
    "with open(\"test.txt\") as file:\n",
    "    for line in file:\n",
    "        print(line, end=\"\")\n",
    "        \n",
    "newG = Graph(\"test.txt\", Graph.READ_MOD_METIS)\n",
    "draw_graph(newG)"
   ]
  },
  {
   "cell_type": "code",
   "execution_count": 13,
   "id": "d16602ea",
   "metadata": {},
   "outputs": [
    {
     "name": "stdout",
     "output_type": "stream",
     "text": [
      "{'-1': inf, '0': inf, '1': 0, '2': 1, '3': 2, '4': 3, '5': 3, '6': inf, '7': inf, '8': inf, '9': inf, '10': inf, '11': inf, '12': inf, '13': inf, '15': inf}\n"
     ]
    }
   ],
   "source": [
    "# kürzeste Pfade\n",
    "# 1) single-source-shortest-path\n",
    "print(sp.single_source_shortest_path(G, \"1\"))"
   ]
  },
  {
   "cell_type": "code",
   "execution_count": 14,
   "id": "321fa5b9",
   "metadata": {},
   "outputs": [
    {
     "name": "stdout",
     "output_type": "stream",
     "text": [
      "{'-1': 0, '0': 1, '1': inf, '2': inf, '3': inf, '4': inf, '5': inf, '6': inf, '7': inf, '8': inf, '9': inf, '10': inf, '11': inf, '12': inf, '13': inf, '15': inf}\n",
      "{'-1': 1, '0': 0, '1': inf, '2': inf, '3': inf, '4': inf, '5': inf, '6': inf, '7': inf, '8': inf, '9': inf, '10': inf, '11': inf, '12': inf, '13': inf, '15': inf}\n",
      "{'-1': inf, '0': inf, '1': 0, '2': 1, '3': 2, '4': 3, '5': 3, '6': inf, '7': inf, '8': inf, '9': inf, '10': inf, '11': inf, '12': inf, '13': inf, '15': inf}\n",
      "{'-1': inf, '0': inf, '1': 1, '2': 0, '3': 1, '4': 2, '5': 2, '6': inf, '7': inf, '8': inf, '9': inf, '10': inf, '11': inf, '12': inf, '13': inf, '15': inf}\n",
      "{'-1': inf, '0': inf, '1': 2, '2': 1, '3': 0, '4': 1, '5': 1, '6': inf, '7': inf, '8': inf, '9': inf, '10': inf, '11': inf, '12': inf, '13': inf, '15': inf}\n",
      "{'-1': inf, '0': inf, '1': 3, '2': 2, '3': 1, '4': 0, '5': 1, '6': inf, '7': inf, '8': inf, '9': inf, '10': inf, '11': inf, '12': inf, '13': inf, '15': inf}\n",
      "{'-1': inf, '0': inf, '1': 3, '2': 2, '3': 1, '4': 1, '5': 0, '6': inf, '7': inf, '8': inf, '9': inf, '10': inf, '11': inf, '12': inf, '13': inf, '15': inf}\n",
      "{'-1': inf, '0': inf, '1': inf, '2': inf, '3': inf, '4': inf, '5': inf, '6': 0, '7': 1, '8': 1, '9': inf, '10': inf, '11': inf, '12': inf, '13': inf, '15': inf}\n",
      "{'-1': inf, '0': inf, '1': inf, '2': inf, '3': inf, '4': inf, '5': inf, '6': 1, '7': 0, '8': 2, '9': inf, '10': inf, '11': inf, '12': inf, '13': inf, '15': inf}\n",
      "{'-1': inf, '0': inf, '1': inf, '2': inf, '3': inf, '4': inf, '5': inf, '6': 1, '7': 2, '8': 0, '9': inf, '10': inf, '11': inf, '12': inf, '13': inf, '15': inf}\n",
      "{'-1': inf, '0': inf, '1': inf, '2': inf, '3': inf, '4': inf, '5': inf, '6': inf, '7': inf, '8': inf, '9': 0, '10': inf, '11': inf, '12': inf, '13': inf, '15': inf}\n",
      "{'-1': inf, '0': inf, '1': inf, '2': inf, '3': inf, '4': inf, '5': inf, '6': inf, '7': inf, '8': inf, '9': inf, '10': 0, '11': 1, '12': 2, '13': 1, '15': inf}\n",
      "{'-1': inf, '0': inf, '1': inf, '2': inf, '3': inf, '4': inf, '5': inf, '6': inf, '7': inf, '8': inf, '9': inf, '10': 1, '11': 0, '12': 1, '13': 2, '15': inf}\n",
      "{'-1': inf, '0': inf, '1': inf, '2': inf, '3': inf, '4': inf, '5': inf, '6': inf, '7': inf, '8': inf, '9': inf, '10': 2, '11': 1, '12': 0, '13': 1, '15': inf}\n",
      "{'-1': inf, '0': inf, '1': inf, '2': inf, '3': inf, '4': inf, '5': inf, '6': inf, '7': inf, '8': inf, '9': inf, '10': 1, '11': 2, '12': 1, '13': 0, '15': inf}\n",
      "{'-1': inf, '0': inf, '1': inf, '2': inf, '3': inf, '4': inf, '5': inf, '6': inf, '7': inf, '8': inf, '9': inf, '10': inf, '11': inf, '12': inf, '13': inf, '15': 0}\n"
     ]
    }
   ],
   "source": [
    "# 2) all-pairs-shortest-path\n",
    "d = sp.all_pair_shortest_path(G)\n",
    "for key in d:\n",
    "    print(d[key])"
   ]
  },
  {
   "cell_type": "code",
   "execution_count": 18,
   "id": "08ddb57a",
   "metadata": {},
   "outputs": [
    {
     "name": "stdout",
     "output_type": "stream",
     "text": [
      "(['1', '2', '3', '4'], 3)\n",
      "([], inf)\n",
      "(['4', '3', '2', '1'], 3)\n"
     ]
    }
   ],
   "source": [
    "# 3) shortest s-t path\n",
    "print(sp.shortest_s_t_path(G, \"1\", \"4\"))\n",
    "print(sp.shortest_s_t_path(G, \"1\", \"10\"))\n",
    "print(sp.shortest_s_t_path(G, \"4\", \"1\"))"
   ]
  },
  {
   "cell_type": "code",
   "execution_count": 19,
   "id": "9cbca0b2",
   "metadata": {},
   "outputs": [
    {
     "name": "stdout",
     "output_type": "stream",
     "text": [
      "[{'0', '-1'}, {'1', '3', '4', '5', '2'}, {'8', '6', '7'}, {'9'}, {'13', '10', '11', '12'}, {'15'}]\n"
     ]
    }
   ],
   "source": [
    "# 4) Zusammenhangskomponenten\n",
    "print(sp.connected_components(G))"
   ]
  }
 ],
 "metadata": {
  "kernelspec": {
   "display_name": "Python 3 (ipykernel)",
   "language": "python",
   "name": "python3"
  },
  "language_info": {
   "codemirror_mode": {
    "name": "ipython",
    "version": 3
   },
   "file_extension": ".py",
   "mimetype": "text/x-python",
   "name": "python",
   "nbconvert_exporter": "python",
   "pygments_lexer": "ipython3",
   "version": "3.9.13"
  }
 },
 "nbformat": 4,
 "nbformat_minor": 5
}
