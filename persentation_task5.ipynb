{
 "cells": [
  {
   "cell_type": "markdown",
   "metadata": {},
   "source": [
    "### Übungsblatt 5 - Cluster Algorithmen"
   ]
  },
  {
   "cell_type": "code",
   "execution_count": 1,
   "metadata": {},
   "outputs": [],
   "source": [
    "import src.cluster.cluster_algorithm as Ca\n",
    "from src.Graph import Graph\n",
    "from src.printGraph import draw_graph\n",
    "\n",
    "import matplotlib.pyplot as plt\n",
    "import numpy as np\n",
    "from time import time"
   ]
  },
  {
   "cell_type": "markdown",
   "metadata": {},
   "source": [
    "Min Cut Algorithmus\n",
    "\n",
    "Algorithmus von Stoer und Wagner. Findet mehrere Cuts und wählt den minimalen aus. Wir haben den Algorithmus so abgewandelt, dass er den minimum cut auf einem Cluster findet.\n",
    "\n",
    "Der Algorithmus gibt die Menge die 'abgeschnitten' wird und das Gewicht des Schnitts."
   ]
  },
  {
   "cell_type": "code",
   "execution_count": 3,
   "metadata": {},
   "outputs": [
    {
     "name": "stdout",
     "output_type": "stream",
     "text": [
      "[{'12'}, 1]\n"
     ]
    }
   ],
   "source": [
    "G = Graph(\"networks/out.ucidata-zachary_\")\n",
    "\n",
    "# example of minimum cut on entire Graph\n",
    "print(Ca.find_minimum_cut(G, G.get_nodes()))"
   ]
  },
  {
   "cell_type": "code",
   "execution_count": 4,
   "metadata": {},
   "outputs": [
    {
     "data": {
      "image/png": "[encoded data removed]",
      "text/plain": [
       "<Figure size 300x300 with 1 Axes>"
      ]
     },
     "metadata": {},
     "output_type": "display_data"
    }
   ],
   "source": [
    "G = Graph()\n",
    "\n",
    "G.add_edge(1, 2)\n",
    "G.add_edge(2, 3)\n",
    "G.add_edge(3, 4)\n",
    "G.add_edge(4, 1)\n",
    "G.add_edge(2, 4)\n",
    "G.add_edge(3, 5)\n",
    "\n",
    "fig = plt.figure(figsize=(3, 3))\n",
    "draw_graph(G, label_on=True)"
   ]
  },
  {
   "cell_type": "code",
   "execution_count": 5,
   "metadata": {},
   "outputs": [
    {
     "name": "stdout",
     "output_type": "stream",
     "text": [
      "[{'5'}, 1]\n",
      "[{'1'}, 2]\n"
     ]
    }
   ],
   "source": [
    "# Anwendungsbeispiel\n",
    "nodes = G.get_nodes()\n",
    "result = Ca.find_minimum_cut(G, nodes)\n",
    "print(result)\n",
    "\n",
    "new_nodes = nodes - result[0]\n",
    "if '5' in new_nodes:\n",
    "    new_nodes = result[0]\n",
    "result = Ca.find_minimum_cut(G, new_nodes)\n",
    "print(result)"
   ]
  },
  {
   "cell_type": "code",
   "execution_count": 6,
   "metadata": {},
   "outputs": [
    {
     "name": "stdout",
     "output_type": "stream",
     "text": [
      "Min Cut Algorithm for n=453 and m=2025 neede 41.435513496398926 seconds.\n",
      "Min Cut Algorithm for n=112 and m=425 neede 0.5947918891906738 seconds.\n",
      "Min Cut Algorithm for n=27 and m=111 neede 0.008714437484741211 seconds.\n",
      "Min Cut Algorithm for n=34 and m=78 neede 0.012725591659545898 seconds.\n",
      "Min Cut Algorithm for n=12 and m=15 neede 0.0009999275207519531 seconds.\n"
     ]
    }
   ],
   "source": [
    "# Laufzeit auf vollen Graphen -> Algorithmus wurde nicht weiter optmiert\n",
    "for path in [\"networks/bio-celegans.mtx\", \"networks/out.adjnoun_adjacency_adjacency_\", \"networks/out.moreno_zebra_zebra_\", \"networks/out.ucidata-zachary_\", \"networks/special_case_for_networkx.mtx\"]:\n",
    "    try:\n",
    "        G = Graph(path)\n",
    "    except:\n",
    "        G = Graph(path, mode=Graph.READ_MOD_METIS)\n",
    "    start = time()\n",
    "    Ca.find_minimum_cut(G)\n",
    "    print(f\"Min Cut Algorithm for n={G.n} and m={G.m} neede {time() - start} seconds.\")\n"
   ]
  },
  {
   "cell_type": "markdown",
   "metadata": {},
   "source": [
    "# Cluster Heuristiken"
   ]
  },
  {
   "cell_type": "markdown",
   "metadata": {},
   "source": [
    "![alternatvie text](presentation\\pictures\\first_and_second_heuristic.png)"
   ]
  },
  {
   "cell_type": "markdown",
   "metadata": {},
   "source": [
    "![alternatvie text](presentation\\pictures\\cut_merge.png)"
   ]
  },
  {
   "cell_type": "markdown",
   "metadata": {},
   "source": [
    "$\\textrm{Lauzeit - First-Heuristic:} ???? \\quad O(n^2) \\quad \\quad \\quad \\quad \\quad \\quad \\quad \\quad \\quad \\quad \\quad \\quad \\quad \\quad$\n",
    "$\\textrm{Lauzeit - Second-Heuristic:} \\quad O(n^2) ???? $"
   ]
  },
  {
   "cell_type": "code",
   "execution_count": 15,
   "metadata": {},
   "outputs": [
    {
     "data": {
      "image/png": "[encoded data removed]",
      "text/plain": [
       "<Figure size 432x288 with 1 Axes>"
      ]
     },
     "metadata": {},
     "output_type": "display_data"
    }
   ],
   "source": [
    "G = Graph()\n",
    "\n",
    "G.add_edge(1,2)\n",
    "G.add_edge(2,3)\n",
    "G.add_edge(3,1)\n",
    "G.add_edge(1,4)\n",
    "G.add_edge(4,5)\n",
    "G.add_edge(5,6)\n",
    "G.add_edge(6,7)\n",
    "G.add_edge(7,5)\n",
    "\n",
    "draw_graph(G, label_on=True)"
   ]
  },
  {
   "cell_type": "code",
   "execution_count": 17,
   "metadata": {},
   "outputs": [
    {
     "name": "stdout",
     "output_type": "stream",
     "text": [
      "first_heuristic - modularity:  ([{'2', '6', '7', '3', '4', '1', '5'}], 0.8515625)\n",
      "second_heuristic - modularity:  ([{'2', '6', '3', '1', '5', '7', '4'}], 0.8515625)\n",
      "first_heuristic - disagreement:  ([{'2', '6', '7', '3', '4'}, {'1', '5'}], 1.0)\n",
      "second_heuristic - disagreement:  ([{'2', '6', '3', '1', '5', '7', '4'}], 3.0)\n"
     ]
    }
   ],
   "source": [
    "print(\"first_heuristic - modularity: \",Ca.first_heuristic(G,version=\"mod\"))\n",
    "print(\"second_heuristic - modularity: \",Ca.second_heuristic(G,version=\"mod\"))\n",
    "\n",
    "print(\"first_heuristic - disagreement: \",Ca.first_heuristic(G,version=\"dis\"))\n",
    "print(\"second_heuristic - disagreement: \",Ca.second_heuristic(G,version=\"dis\"))"
   ]
  },
  {
   "cell_type": "code",
   "execution_count": null,
   "metadata": {},
   "outputs": [],
   "source": [
    "networks = [\"networks/power_networks/power-494-bus.mtx\",\"networks/power_networks/power-662-bus.mtx\",\"networks/power_networks/power-685-bus.mtx\",\"networks/power_networks/power-1138-bus.mtx\"]\n",
    "\n",
    "times_first_mod = []\n",
    "times_second_mod = []\n",
    "times_first_dis = []\n",
    "times_second_dis = []\n",
    "\n",
    "for network in networks:\n",
    "    \n",
    "    G = Graph(network)\n",
    "    \n",
    "    start_time = time()\n",
    "    Ca.first_heuristic(G,version=\"mod\")\n",
    "    times_first_mod.append(time() - start_time)\n",
    "    \n",
    "    start_time = time()\n",
    "    Ca.second_heuristic(G,version=\"mod\")\n",
    "    times_second_mod.append(time() - start_time)\n",
    "    \n",
    "    start_time = time()\n",
    "    Ca.first_heuristic(G,version=\"dis\")\n",
    "    times_first_dis.append(time() - start_time)\n",
    "\n",
    "    start_time = time()\n",
    "    Ca.second_heuristic(G,version=\"dis\")\n",
    "    times_second_dis.append(time() - start_time)\n",
    "\n",
    "\n",
    "names = [\"power-494\", \"power-662\", \"power-685\", \"power-1138\"]\n",
    "\n",
    "fig = plt.figure(figsize=(7, 3))\n",
    "X_axis = np.arange(len(names))\n",
    "\n",
    "plt.bar(X_axis - 0.2, times_first_mod, 0.4, label = 'First-mod')\n",
    "plt.bar(X_axis - 0.2, times_second_mod, 0.4, label = 'Second-mod')\n",
    "plt.bar(X_axis - 0.2, times_first_dis, 0.4, label = 'First-dis')\n",
    "plt.bar(X_axis - 0.2, times_second_dis, 0.4, label = 'Second-dis')\n",
    "\n",
    "plt.xticks(X_axis, names)\n",
    "plt.ylabel(\"Time\")\n",
    "plt.title(\"Laufzeit der Algorithmen\")\n",
    "plt.legend()\n",
    "plt.show()\n"
   ]
  },
  {
   "cell_type": "code",
   "execution_count": null,
   "metadata": {},
   "outputs": [],
   "source": [
    "def groessenverteilung(clustering)\n",
    "    groessenverteilung_list = []\n",
    "    for cluster in clustering:\n",
    "        groessenverteilung_list.append(len(cluster))\n",
    "    return groessenverteilung_list"
   ]
  }
 ],
 "metadata": {
  "kernelspec": {
   "display_name": "Python 3 (ipykernel)",
   "language": "python",
   "name": "python3"
  },
  "language_info": {
   "codemirror_mode": {
    "name": "ipython",
    "version": 3
   },
   "file_extension": ".py",
   "mimetype": "text/x-python",
   "name": "python",
   "nbconvert_exporter": "python",
   "pygments_lexer": "ipython3",
   "version": "3.9.12"
  }
 },
 "nbformat": 4,
 "nbformat_minor": 2
}
